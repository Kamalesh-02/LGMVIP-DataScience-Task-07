{
 "cells": [
  {
   "cell_type": "markdown",
   "id": "e3b14cf7",
   "metadata": {},
   "source": [
    "#  Neural Network That Can Read Handwriting"
   ]
  },
  {
   "cell_type": "markdown",
   "id": "4f716fe5",
   "metadata": {},
   "source": [
    "## Importing Libraries: \n",
    "The code begins by importing necessary libraries such as os, numpy, matplotlib, tensorflow, and keras for handling data, visualization, and building the neural network model."
   ]
  },
  {
   "cell_type": "code",
   "execution_count": 30,
   "id": "d3177af6",
   "metadata": {},
   "outputs": [],
   "source": [
    "import os\n",
    "import numpy as np\n",
    "import matplotlib.pyplot as plt\n",
    "%matplotlib inline\n",
    "import tensorflow as tf\n",
    "from tensorflow import keras"
   ]
  },
  {
   "cell_type": "markdown",
   "id": "35fbd198",
   "metadata": {},
   "source": [
    "## Loading and Splitting Data: \n",
    "The next block loads the MNIST dataset using the keras.datasets.mnist.load_data() function. It splits the dataset into training and testing sets, assigning the features and labels to x_train, y_train, x_test, and y_test respectively."
   ]
  },
  {
   "cell_type": "code",
   "execution_count": 31,
   "id": "9b061603",
   "metadata": {},
   "outputs": [],
   "source": [
    "(x_train, y_train) , (x_test, y_test) = keras.datasets.mnist.load_data()"
   ]
  },
  {
   "cell_type": "code",
   "execution_count": 32,
   "id": "7acfeb1c",
   "metadata": {},
   "outputs": [
    {
     "name": "stdout",
     "output_type": "stream",
     "text": [
      "60000\n",
      "60000\n",
      "10000\n",
      "10000\n"
     ]
    }
   ],
   "source": [
    "print(len(x_train))\n",
    "print(len(y_train))\n",
    "print(len(x_test))\n",
    "print(len(y_test))"
   ]
  },
  {
   "cell_type": "markdown",
   "id": "9c6013dc",
   "metadata": {},
   "source": [
    "## Inspecting a Training Example:\n",
    "The code displays the shape of the 7th training example from x_train using x_train[7].shape. This helps to understand the dimensions of the input data."
   ]
  },
  {
   "cell_type": "code",
   "execution_count": 33,
   "id": "76be3fb8",
   "metadata": {},
   "outputs": [
    {
     "data": {
      "text/plain": [
       "(28, 28)"
      ]
     },
     "execution_count": 33,
     "metadata": {},
     "output_type": "execute_result"
    }
   ],
   "source": [
    "x_train[7].shape"
   ]
  },
  {
   "cell_type": "markdown",
   "id": "74265a1f",
   "metadata": {},
   "source": [
    "## Visualizing an Image: \n",
    "The code uses matplotlib.pyplot.matshow() to display the 7th training image from x_train. This allows visual inspection of the image data."
   ]
  },
  {
   "cell_type": "code",
   "execution_count": 34,
   "id": "2c9da3d0",
   "metadata": {},
   "outputs": [
    {
     "data": {
      "text/plain": [
       "<matplotlib.image.AxesImage at 0x259dc1e9090>"
      ]
     },
     "execution_count": 34,
     "metadata": {},
     "output_type": "execute_result"
    },
    {
     "data": {
      "image/png": "[encoded data removed]",
      "text/plain": [
       "<Figure size 480x480 with 1 Axes>"
      ]
     },
     "metadata": {},
     "output_type": "display_data"
    }
   ],
   "source": [
    "plt.matshow(x_train[7])"
   ]
  },
  {
   "cell_type": "markdown",
   "id": "b2942b33",
   "metadata": {},
   "source": [
    "## Building the Model: \n",
    "The code initializes a sequential model using tf.keras.models.Sequential(). It then adds layers to the model: a flatten layer to convert the 2D input data to 1D, two dense layers with ReLU activation, and a final dense layer with softmax activation for multi-class classification."
   ]
  },
  {
   "cell_type": "code",
   "execution_count": 35,
   "id": "247e3c08",
   "metadata": {},
   "outputs": [],
   "source": [
    "model = tf.keras.models.Sequential()\n",
    "model.add(tf.keras.layers.Flatten(input_shape=(28,28)))\n",
    "model.add(tf.keras.layers.Dense(128, activation='relu'))\n",
    "model.add(tf.keras.layers.Dense(128, activation='relu'))\n",
    "model.add(tf.keras.layers.Dense(10, activation='softmax'))"
   ]
  },
  {
   "cell_type": "markdown",
   "id": "811fb8b4",
   "metadata": {},
   "source": [
    "### Compiling the Model: \n",
    "The model is compiled with the Adam optimizer, sparse categorical cross-entropy loss function, and accuracy as the evaluation metric."
   ]
  },
  {
   "cell_type": "code",
   "execution_count": 36,
   "id": "6798ee5d",
   "metadata": {},
   "outputs": [],
   "source": [
    "model.compile(optimizer='adam', loss='sparse_categorical_crossentropy', metrics=['accuracy'])"
   ]
  },
  {
   "cell_type": "code",
   "execution_count": 46,
   "id": "90b68238",
   "metadata": {},
   "outputs": [
    {
     "name": "stdout",
     "output_type": "stream",
     "text": [
      "Epoch 1/6\n",
      "1875/1875 [==============================] - 4s 2ms/step - loss: 0.1265 - accuracy: 0.9646\n",
      "Epoch 2/6\n",
      "1875/1875 [==============================] - 4s 2ms/step - loss: 0.1149 - accuracy: 0.9681\n",
      "Epoch 3/6\n",
      "1875/1875 [==============================] - 4s 2ms/step - loss: 0.1111 - accuracy: 0.9695\n",
      "Epoch 4/6\n",
      "1875/1875 [==============================] - 4s 2ms/step - loss: 0.1005 - accuracy: 0.9723\n",
      "Epoch 5/6\n",
      "1875/1875 [==============================] - 5s 3ms/step - loss: 0.0994 - accuracy: 0.9726\n",
      "Epoch 6/6\n",
      "1875/1875 [==============================] - 5s 3ms/step - loss: 0.0891 - accuracy: 0.9762\n"
     ]
    },
    {
     "data": {
      "text/plain": [
       "<keras.src.callbacks.History at 0x259d3202230>"
      ]
     },
     "execution_count": 46,
     "metadata": {},
     "output_type": "execute_result"
    }
   ],
   "source": [
    "model.fit(x_train, y_train, epochs = 6)"
   ]
  },
  {
   "cell_type": "markdown",
   "id": "3cc9e5c5",
   "metadata": {},
   "source": [
    "### Evaluating the Model: \n",
    "The model.evaluate() function evaluates the trained model on the testing data (x_test and y_test) and prints the loss and accuracy metrics."
   ]
  },
  {
   "cell_type": "code",
   "execution_count": 47,
   "id": "0a685952",
   "metadata": {},
   "outputs": [
    {
     "name": "stdout",
     "output_type": "stream",
     "text": [
      "313/313 [==============================] - 1s 2ms/step - loss: 0.1389 - accuracy: 0.9680\n"
     ]
    },
    {
     "data": {
      "text/plain": [
       "[0.13892871141433716, 0.9679999947547913]"
      ]
     },
     "execution_count": 47,
     "metadata": {},
     "output_type": "execute_result"
    }
   ],
   "source": [
    "model.evaluate(x_test, y_test)"
   ]
  },
  {
   "cell_type": "code",
   "execution_count": 48,
   "id": "2907d6dc",
   "metadata": {},
   "outputs": [
    {
     "name": "stdout",
     "output_type": "stream",
     "text": [
      "313/313 [==============================] - 0s 1ms/step\n"
     ]
    }
   ],
   "source": [
    "y_predicted = model.predict(x_test)"
   ]
  },
  {
   "cell_type": "code",
   "execution_count": 49,
   "id": "402a5a25",
   "metadata": {},
   "outputs": [
    {
     "data": {
      "text/plain": [
       "array([1.7288345e-22, 0.0000000e+00, 7.6670890e-24, 3.4306915e-29,\n",
       "       6.6690554e-26, 1.8199338e-16, 1.0000000e+00, 8.1160086e-36,\n",
       "       2.5870765e-20, 4.2441060e-20], dtype=float32)"
      ]
     },
     "execution_count": 49,
     "metadata": {},
     "output_type": "execute_result"
    }
   ],
   "source": [
    "y_predicted[54]"
   ]
  },
  {
   "cell_type": "markdown",
   "id": "83b4ccef",
   "metadata": {},
   "source": [
    "### Visualizing a Predicted Image: \n",
    "The code displays the 54th test image from x_test using matplotlib.pyplot.matshow(). This helps visualize the image for comparison with the predicted label."
   ]
  },
  {
   "cell_type": "code",
   "execution_count": 50,
   "id": "391f6620",
   "metadata": {},
   "outputs": [
    {
     "data": {
      "text/plain": [
       "<matplotlib.image.AxesImage at 0x259e8f23d30>"
      ]
     },
     "execution_count": 50,
     "metadata": {},
     "output_type": "execute_result"
    },
    {
     "data": {
      "image/png": "[encoded data removed]",
      "text/plain": [
       "<Figure size 480x480 with 1 Axes>"
      ]
     },
     "metadata": {},
     "output_type": "display_data"
    }
   ],
   "source": [
    "plt.matshow(x_test[54])"
   ]
  },
  {
   "cell_type": "code",
   "execution_count": 51,
   "id": "1f10516b",
   "metadata": {},
   "outputs": [
    {
     "data": {
      "text/plain": [
       "6"
      ]
     },
     "execution_count": 51,
     "metadata": {},
     "output_type": "execute_result"
    }
   ],
   "source": [
    "np.argmax(y_predicted[54])"
   ]
  },
  {
   "cell_type": "code",
   "execution_count": 52,
   "id": "a7c0bcd8",
   "metadata": {},
   "outputs": [],
   "source": [
    "y_predicted_labels = [np.argmax(i) for i in y_predicted]"
   ]
  },
  {
   "cell_type": "markdown",
   "id": "3d582020",
   "metadata": {},
   "source": [
    "## Visualizing the Confusion Matrix: \n",
    "The code uses seaborn.heatmap() to create a heatmap of the confusion matrix. The confusion_mat variable, however, is not defined in the given code snippet, so it needs to be defined earlier for this block to execute properly. The confusion matrix helps visualize the performance of the model in terms of predicted labels compared to the true labels. The x-axis represents predicted labels, and the y-axis represents true labels."
   ]
  },
  {
   "cell_type": "code",
   "execution_count": 53,
   "id": "4118cb7a",
   "metadata": {},
   "outputs": [],
   "source": [
    "confusion_mat = tf.math.confusion_matrix(labels=y_test,predictions=y_predicted_labels)"
   ]
  },
  {
   "cell_type": "code",
   "execution_count": 62,
   "id": "cb8d91db",
   "metadata": {},
   "outputs": [
    {
     "data": {
      "text/plain": [
       "Text(58.222222222222214, 0.5, 'Truth')"
      ]
     },
     "execution_count": 62,
     "metadata": {},
     "output_type": "execute_result"
    },
    {
     "data": {
      "image/png": "[encoded data removed]",
      "text/plain": [
       "<Figure size 700x400 with 2 Axes>"
      ]
     },
     "metadata": {},
     "output_type": "display_data"
    }
   ],
   "source": [
    "import seaborn as sn\n",
    "plt.figure(figsize = (7,4))\n",
    "sn.heatmap(confusion_mat, annot=True, fmt='d')\n",
    "plt.xlabel('Predicted')\n",
    "plt.ylabel('Truth')"
   ]
  }
 ],
 "metadata": {
  "kernelspec": {
   "display_name": "Python 3 (ipykernel)",
   "language": "python",
   "name": "python3"
  },
  "language_info": {
   "codemirror_mode": {
    "name": "ipython",
    "version": 3
   },
   "file_extension": ".py",
   "mimetype": "text/x-python",
   "name": "python",
   "nbconvert_exporter": "python",
   "pygments_lexer": "ipython3",
   "version": "3.10.9"
  }
 },
 "nbformat": 4,
 "nbformat_minor": 5
}
